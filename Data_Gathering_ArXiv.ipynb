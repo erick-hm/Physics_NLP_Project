{
 "cells": [
  {
   "cell_type": "markdown",
   "metadata": {},
   "source": [
    "# Data-Mining ArXiv for Abstracts\n",
    "\n",
    "Using the arxiv module, we will create a data set of thousands of abstracts from recent papers."
   ]
  },
  {
   "cell_type": "code",
   "execution_count": 15,
   "metadata": {},
   "outputs": [],
   "source": [
    "import arxiv\n",
    "import pandas as pd\n",
    "from pyarxiv import query, download_entries\n",
    "from pyarxiv.arxiv_categories import ArxivCategory, arxiv_category_map\n",
    "\n",
    "#set the display option to show all columns\n",
    "pd.set_option('display.max_columns', None)"
   ]
  },
  {
   "cell_type": "code",
   "execution_count": 2,
   "metadata": {},
   "outputs": [],
   "source": [
    "\"\"\"\n",
    "The below commented out code details the available options for querying ArXiv\n",
    "\"\"\"\n",
    "\n",
    "\n",
    "#query(max_results=100, ids=[], categories=[],\n",
    "#                title='', authors='', abstract='', journal_ref='',\n",
    "#                querystring='')\n",
    "# entries = query(max_results=1000, abstract='electron')\n",
    "# titles = map(lambda x: x['title'], entries)\n",
    "# print(list(titles))\n",
    "\n",
    "\n",
    "# #download_entries(entries_or_ids_or_uris=[], target_folder='.',\n",
    "# #                     use_title_for_filename=False, append_id=False,\n",
    "# #                     progress_callback=(lambda x, y: id))\n",
    "# download_entries(entries)\n",
    "\n",
    "\n",
    "# entries_with_category = query([ArxivCategory.cs_AI])\n",
    "# print(arxiv_category_map(ArxivCategory.cs_AI))"
   ]
  },
  {
   "cell_type": "code",
   "execution_count": 69,
   "metadata": {},
   "outputs": [],
   "source": [
    "def arxiv_querier(n_results):\n",
    "    \"Returns a pandas dataframe of arxiv papers satisfying the query. Prompts for a keyword search\"\n",
    "    keyword = input(\"Enter the topic for which you want to search papers on arXiv: \")\n",
    "\n",
    "    #outputs a list of dictionaries, each dictionary corresponding to one paper\n",
    "    results = query(title = keyword,max_results=n_results)\n",
    "\n",
    "    #create a pandas dataframe from the entries\n",
    "    arxiv_results = pd.DataFrame(results)\n",
    "\n",
    "    #remove some of the unnecessary columns\n",
    "    arxiv_results = arxiv_results[['id','published','updated','title','summary','authors','arxiv_primary_category']]\n",
    "\n",
    "    #clean the authors column\n",
    "    # arxiv_entries['authors'] = arxiv_entries['authors'].map(lambda x:  for y in x)\n",
    "\n",
    "    #clean the primary category column\n",
    "    arxiv_results['primary_category'] = arxiv_results['arxiv_primary_category'].map(lambda x: x['term'])\n",
    "\n",
    "    return arxiv_results\n",
    "\n",
    "def abstract_preview(n_to_show,dataframe):\n",
    "    for i in range(n_to_show):\n",
    "        print(dataframe['summary'][i] + '\\n')"
   ]
  },
  {
   "cell_type": "code",
   "execution_count": 63,
   "metadata": {},
   "outputs": [
    {
     "name": "stdout",
     "output_type": "stream",
     "text": [
      "Enter the topic for which you want to search papers on arXiv: entanglement\n"
     ]
    }
   ],
   "source": [
    "entanglement = arxiv_querier(5000)"
   ]
  },
  {
   "cell_type": "code",
   "execution_count": 64,
   "metadata": {},
   "outputs": [
    {
     "name": "stdout",
     "output_type": "stream",
     "text": [
      "Enter the topic for which you want to search papers on arXiv: quantum\n"
     ]
    }
   ],
   "source": [
    "quantum = arxiv_querier(5000)"
   ]
  },
  {
   "cell_type": "code",
   "execution_count": 65,
   "metadata": {},
   "outputs": [
    {
     "name": "stdout",
     "output_type": "stream",
     "text": [
      "Enter the topic for which you want to search papers on arXiv: quantum thermodynamics\n"
     ]
    }
   ],
   "source": [
    "quantum_thermo = arxiv_querier(5000)"
   ]
  },
  {
   "cell_type": "code",
   "execution_count": 66,
   "metadata": {},
   "outputs": [
    {
     "name": "stdout",
     "output_type": "stream",
     "text": [
      "Enter the topic for which you want to search papers on arXiv: quantum computing\n"
     ]
    }
   ],
   "source": [
    "quantum_computing = arxiv_querier(5000)"
   ]
  },
  {
   "cell_type": "code",
   "execution_count": 68,
   "metadata": {},
   "outputs": [
    {
     "name": "stdout",
     "output_type": "stream",
     "text": [
      "Quantum thermodynamics addresses the emergence of thermodynamical laws from\n",
      "quantum mechanics. The link is based on the intimate connection of quantum\n",
      "thermodynamics with the theory of open quantum systems. Quantum mechanics\n",
      "inserts dynamics into thermodynamics giving a sound foundation to\n",
      "finite-time-thermodynamics. The emergence of the 0-law I-law II-law and III-law\n",
      "of thermodynamics from quantum considerations is presented. The emphasis is on\n",
      "consistence between the two theories which address the same subject from\n",
      "different foundations. We claim that inconsistency is the result of faulty\n",
      "analysis pointing to flaws in approximations.\n",
      "\n",
      "Quantum thermodynamics is an emerging research field aiming to extend\n",
      "standard thermodynamics and non-equilibrium statistical physics to ensembles of\n",
      "sizes well below the thermodynamic limit, in non-equilibrium situations, and\n",
      "with the full inclusion of quantum effects. Fuelled by experimental advances\n",
      "and the potential of future nanoscale applications this research effort is\n",
      "pursued by scientists with different backgrounds, including statistical\n",
      "physics, many-body theory, mesoscopic physics and quantum information theory,\n",
      "who bring various tools and methods to the field. A multitude of theoretical\n",
      "questions are being addressed ranging from issues of thermalisation of quantum\n",
      "systems and various definitions of \"work\", to the efficiency and power of\n",
      "quantum engines. This overview provides a perspective on a selection of these\n",
      "current trends accessible to postgraduate students and researchers alike.\n",
      "\n",
      "The quantum-mechanical and thermodynamic properties of a 3-level molecular\n",
      "cooling cycle are derived. An inadequacy of earlier models is rectified in\n",
      "accounting for the spontaneous emission and absorption associated with the\n",
      "coupling to the coherent driving field via an environmental reservoir. This\n",
      "additional coupling need not be dissipative, and can provide a thermal driving\n",
      "force - the quantum analog of classical absorption chillers. The dependence of\n",
      "the maximum attainable cooling rate on temperature, at ultra-low temperatures,\n",
      "is determined and shown to respect the recently-established fundamental bound\n",
      "based on the second and third laws of thermodynamics.\n",
      "\n"
     ]
    }
   ],
   "source": [
    "abstract_preview(3,quantum_thermo)"
   ]
  },
  {
   "cell_type": "code",
   "execution_count": 70,
   "metadata": {},
   "outputs": [],
   "source": [
    "#combining the different dataframes\n",
    "combined_arxiv = pd.concat([quantum,entanglement,quantum_thermo,quantum_computing])"
   ]
  },
  {
   "cell_type": "code",
   "execution_count": 84,
   "metadata": {},
   "outputs": [],
   "source": [
    "#export the dataframe\n",
    "combined_arxiv.to_csv('arxiv_quantum_data')"
   ]
  }
 ],
 "metadata": {
  "kernelspec": {
   "display_name": "Python 3",
   "language": "python",
   "name": "python3"
  },
  "language_info": {
   "codemirror_mode": {
    "name": "ipython",
    "version": 3
   },
   "file_extension": ".py",
   "mimetype": "text/x-python",
   "name": "python",
   "nbconvert_exporter": "python",
   "pygments_lexer": "ipython3",
   "version": "3.7.7"
  }
 },
 "nbformat": 4,
 "nbformat_minor": 4
}
